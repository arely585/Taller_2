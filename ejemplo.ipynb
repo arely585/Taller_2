{
 "cells": [
  {
   "cell_type": "markdown",
   "id": "941072bc",
   "metadata": {},
   "source": [
    "## a = 0 <br>\n",
    "## b = 1"
   ]
  },
  {
   "cell_type": "code",
   "execution_count": 45,
   "id": "7812621d",
   "metadata": {},
   "outputs": [],
   "source": [
    "df=pd.read_csv('productos.csv')\n",
    "df_filtrado = df[df['nutriscore_grade'].isin(['a','b'])] # Filtrar por nutriscore 'a' o 'b'\n",
    "df = df_filtrado.drop(columns=['brands', 'categories'])# Eliminar columnas de texto\n",
    "df['nutriscore_grade'] = df['nutriscore_grade'].map({'a': 0, 'b': 1})# Convertir a 0 y \n",
    "df['nutriscore_grade']= df['nutriscore_grade'].astype('category')# cambiar el type del las columnas categoricas\n",
    "#eliminar las filas con valores nulos\n",
    "df = df.dropna()"
   ]
  },
  {
   "cell_type": "code",
   "execution_count": 7,
   "id": "add97cc2",
   "metadata": {},
   "outputs": [
    {
     "data": {
      "text/html": [
       "<div>\n",
       "<style scoped>\n",
       "    .dataframe tbody tr th:only-of-type {\n",
       "        vertical-align: middle;\n",
       "    }\n",
       "\n",
       "    .dataframe tbody tr th {\n",
       "        vertical-align: top;\n",
       "    }\n",
       "\n",
       "    .dataframe thead th {\n",
       "        text-align: right;\n",
       "    }\n",
       "</style>\n",
       "<table border=\"1\" class=\"dataframe\">\n",
       "  <thead>\n",
       "    <tr style=\"text-align: right;\">\n",
       "      <th></th>\n",
       "      <th>product_name</th>\n",
       "      <th>nutriscore_grade</th>\n",
       "      <th>energy_kcal</th>\n",
       "      <th>fat_100g</th>\n",
       "      <th>sugars_100g</th>\n",
       "      <th>salt_100g</th>\n",
       "    </tr>\n",
       "  </thead>\n",
       "  <tbody>\n",
       "    <tr>\n",
       "      <th>0</th>\n",
       "      <td>Sidi Ali</td>\n",
       "      <td>0</td>\n",
       "      <td>0.0</td>\n",
       "      <td>0.000</td>\n",
       "      <td>1.40</td>\n",
       "      <td>0.000000</td>\n",
       "    </tr>\n",
       "    <tr>\n",
       "      <th>4</th>\n",
       "      <td>اكوافينا</td>\n",
       "      <td>0</td>\n",
       "      <td>0.0</td>\n",
       "      <td>0.000</td>\n",
       "      <td>0.00</td>\n",
       "      <td>0.000508</td>\n",
       "    </tr>\n",
       "    <tr>\n",
       "      <th>5</th>\n",
       "      <td>Lait</td>\n",
       "      <td>1</td>\n",
       "      <td>45.0</td>\n",
       "      <td>1.500</td>\n",
       "      <td>0.00</td>\n",
       "      <td>0.225000</td>\n",
       "    </tr>\n",
       "    <tr>\n",
       "      <th>6</th>\n",
       "      <td>CRISTALINE Eau De Source 1.5L</td>\n",
       "      <td>0</td>\n",
       "      <td>0.0</td>\n",
       "      <td>0.000</td>\n",
       "      <td>0.00</td>\n",
       "      <td>0.052500</td>\n",
       "    </tr>\n",
       "    <tr>\n",
       "      <th>7</th>\n",
       "      <td>Fromage blanc nature</td>\n",
       "      <td>0</td>\n",
       "      <td>80.6</td>\n",
       "      <td>12.000</td>\n",
       "      <td>0.00</td>\n",
       "      <td>0.000000</td>\n",
       "    </tr>\n",
       "    <tr>\n",
       "      <th>...</th>\n",
       "      <td>...</td>\n",
       "      <td>...</td>\n",
       "      <td>...</td>\n",
       "      <td>...</td>\n",
       "      <td>...</td>\n",
       "      <td>...</td>\n",
       "    </tr>\n",
       "    <tr>\n",
       "      <th>487</th>\n",
       "      <td>Crispy minis</td>\n",
       "      <td>1</td>\n",
       "      <td>385.0</td>\n",
       "      <td>5.000</td>\n",
       "      <td>17.00</td>\n",
       "      <td>0.194000</td>\n",
       "    </tr>\n",
       "    <tr>\n",
       "      <th>489</th>\n",
       "      <td>Grilletine au froment sans sucres ajoutés</td>\n",
       "      <td>1</td>\n",
       "      <td>425.0</td>\n",
       "      <td>9.600</td>\n",
       "      <td>1.70</td>\n",
       "      <td>0.890000</td>\n",
       "    </tr>\n",
       "    <tr>\n",
       "      <th>490</th>\n",
       "      <td>Semi-Skimmed 1.8% Fat Milk</td>\n",
       "      <td>1</td>\n",
       "      <td>50.0</td>\n",
       "      <td>1.600</td>\n",
       "      <td>4.80</td>\n",
       "      <td>0.107500</td>\n",
       "    </tr>\n",
       "    <tr>\n",
       "      <th>491</th>\n",
       "      <td>Seeded Batch</td>\n",
       "      <td>0</td>\n",
       "      <td>293.0</td>\n",
       "      <td>8.900</td>\n",
       "      <td>2.60</td>\n",
       "      <td>0.440000</td>\n",
       "    </tr>\n",
       "    <tr>\n",
       "      <th>498</th>\n",
       "      <td>The Original Crunchy Rye Breads</td>\n",
       "      <td>0</td>\n",
       "      <td>352.0</td>\n",
       "      <td>0.952</td>\n",
       "      <td>2.86</td>\n",
       "      <td>0.762000</td>\n",
       "    </tr>\n",
       "  </tbody>\n",
       "</table>\n",
       "<p>148 rows × 6 columns</p>\n",
       "</div>"
      ],
      "text/plain": [
       "                                  product_name nutriscore_grade  energy_kcal  \\\n",
       "0                                     Sidi Ali                0          0.0   \n",
       "4                                     اكوافينا                0          0.0   \n",
       "5                                         Lait                1         45.0   \n",
       "6                CRISTALINE Eau De Source 1.5L                0          0.0   \n",
       "7                         Fromage blanc nature                0         80.6   \n",
       "..                                         ...              ...          ...   \n",
       "487                               Crispy minis                1        385.0   \n",
       "489  Grilletine au froment sans sucres ajoutés                1        425.0   \n",
       "490                 Semi-Skimmed 1.8% Fat Milk                1         50.0   \n",
       "491                               Seeded Batch                0        293.0   \n",
       "498            The Original Crunchy Rye Breads                0        352.0   \n",
       "\n",
       "     fat_100g  sugars_100g  salt_100g  \n",
       "0       0.000         1.40   0.000000  \n",
       "4       0.000         0.00   0.000508  \n",
       "5       1.500         0.00   0.225000  \n",
       "6       0.000         0.00   0.052500  \n",
       "7      12.000         0.00   0.000000  \n",
       "..        ...          ...        ...  \n",
       "487     5.000        17.00   0.194000  \n",
       "489     9.600         1.70   0.890000  \n",
       "490     1.600         4.80   0.107500  \n",
       "491     8.900         2.60   0.440000  \n",
       "498     0.952         2.86   0.762000  \n",
       "\n",
       "[148 rows x 6 columns]"
      ]
     },
     "execution_count": 7,
     "metadata": {},
     "output_type": "execute_result"
    }
   ],
   "source": [
    "df"
   ]
  },
  {
   "cell_type": "code",
   "execution_count": 8,
   "id": "8a5c9378",
   "metadata": {},
   "outputs": [
    {
     "name": "stdout",
     "output_type": "stream",
     "text": [
      "<class 'pandas.core.frame.DataFrame'>\n",
      "Int64Index: 148 entries, 0 to 498\n",
      "Data columns (total 6 columns):\n",
      " #   Column            Non-Null Count  Dtype   \n",
      "---  ------            --------------  -----   \n",
      " 0   product_name      148 non-null    object  \n",
      " 1   nutriscore_grade  148 non-null    category\n",
      " 2   energy_kcal       148 non-null    float64 \n",
      " 3   fat_100g          148 non-null    float64 \n",
      " 4   sugars_100g       148 non-null    float64 \n",
      " 5   salt_100g         148 non-null    float64 \n",
      "dtypes: category(1), float64(4), object(1)\n",
      "memory usage: 7.2+ KB\n"
     ]
    }
   ],
   "source": [
    "df.info()"
   ]
  },
  {
   "cell_type": "code",
   "execution_count": null,
   "id": "35e85382",
   "metadata": {},
   "outputs": [
    {
     "data": {
      "text/plain": [
       "array([[0.00000000e+00, 0.00000000e+00, 1.40000000e+00, 0.00000000e+00],\n",
       "       [0.00000000e+00, 0.00000000e+00, 0.00000000e+00, 5.08000000e-04],\n",
       "       [4.50000000e+01, 1.50000000e+00, 0.00000000e+00, 2.25000000e-01],\n",
       "       [0.00000000e+00, 0.00000000e+00, 0.00000000e+00, 5.25000000e-02],\n",
       "       [8.06000000e+01, 1.20000000e+01, 0.00000000e+00, 0.00000000e+00],\n",
       "       [5.80000000e+01, 3.00000000e+00, 0.00000000e+00, 0.00000000e+00],\n",
       "       [0.00000000e+00, 0.00000000e+00, 0.00000000e+00, 0.00000000e+00],\n",
       "       [0.00000000e+00, 0.00000000e+00, 0.00000000e+00, 0.00000000e+00],\n",
       "       [0.00000000e+00, 0.00000000e+00, 0.00000000e+00, 6.50000000e-03],\n",
       "       [1.01000000e+02, 6.00000000e+00, 0.00000000e+00, 0.00000000e+00],\n",
       "       [4.50000000e+01, 1.50000000e+00, 0.00000000e+00, 0.00000000e+00],\n",
       "       [0.00000000e+00, 0.00000000e+00, 0.00000000e+00, 0.00000000e+00],\n",
       "       [0.00000000e+00, 0.00000000e+00, 0.00000000e+00, 0.00000000e+00],\n",
       "       [1.61000000e+02, 7.50000000e+00, 0.00000000e+00, 1.00000000e-01],\n",
       "       [0.00000000e+00, 0.00000000e+00, 0.00000000e+00, 1.20000000e-01],\n",
       "       [2.30000000e+02, 8.00000000e-01, 2.40000000e+00, 9.05000000e-01],\n",
       "       [2.37000000e+02, 6.98000000e-01, 2.10000000e+00, 7.87000000e-01],\n",
       "       [2.37000000e+02, 2.70000000e+00, 1.40000000e+00, 8.25000000e-01],\n",
       "       [6.21000000e+02, 5.33000000e+01, 4.80000000e+00, 1.00000000e-02],\n",
       "       [6.00000000e+02, 4.76000000e+01, 6.50000000e+00, 2.00000000e-02],\n",
       "       [5.80000000e+01, 3.00000000e+00, 0.00000000e+00, 0.00000000e+00],\n",
       "       [1.09000000e+02, 3.00000000e+00, 2.00000000e+00, 0.00000000e+00],\n",
       "       [0.00000000e+00, 0.00000000e+00, 0.00000000e+00, 2.50000000e-02],\n",
       "       [0.00000000e+00, 0.00000000e+00, 0.00000000e+00, 1.30000000e-01],\n",
       "       [0.00000000e+00, 0.00000000e+00, 0.00000000e+00, 0.00000000e+00],\n",
       "       [2.57000000e+02, 1.80000000e+01, 0.00000000e+00, 0.00000000e+00],\n",
       "       [0.00000000e+00, 0.00000000e+00, 0.00000000e+00, 0.00000000e+00],\n",
       "       [0.00000000e+00, 0.00000000e+00, 0.00000000e+00, 3.10000000e-01],\n",
       "       [0.00000000e+00, 0.00000000e+00, 0.00000000e+00, 3.00000000e-06],\n",
       "       [1.00000000e+00, 1.00000000e-01, 1.00000000e-01, 1.00000000e-01],\n",
       "       [1.50000000e+01, 1.10000000e+00, 0.00000000e+00, 1.50000000e-01],\n",
       "       [0.00000000e+00, 0.00000000e+00, 0.00000000e+00, 2.40000000e-02],\n",
       "       [5.80000000e+01, 3.00000000e+00, 0.00000000e+00, 0.00000000e+00],\n",
       "       [7.12000000e+02, 6.91000000e+01, 3.00000000e+00, 2.00000000e-02],\n",
       "       [3.36000000e+02, 1.50000000e+00, 1.00000000e+00, 1.00000000e+00],\n",
       "       [3.58000000e+02, 2.11000000e+00, 4.21000000e+00, 2.57000000e-01],\n",
       "       [0.00000000e+00, 0.00000000e+00, 0.00000000e+00, 3.00000000e-03],\n",
       "       [1.80000000e+02, 8.50000000e+00, 6.00000000e-01, 5.00000000e-01],\n",
       "       [0.00000000e+00, 0.00000000e+00, 0.00000000e+00, 0.00000000e+00],\n",
       "       [1.80000000e+02, 6.40000000e+00, 1.60000000e-01, 5.00000000e-01],\n",
       "       [6.25000000e+02, 5.00000000e+01, 5.10000000e+00, 0.00000000e+00],\n",
       "       [3.86000000e+02, 2.86000000e+00, 0.00000000e+00, 0.00000000e+00],\n",
       "       [5.70000000e+01, 5.00000000e-01, 3.60000000e+00, 1.39875000e-01],\n",
       "       [2.97000000e+02, 9.60000000e+00, 4.20000000e+00, 9.60000000e-01],\n",
       "       [2.33000000e+02, 1.10000000e+00, 2.60000000e+00, 8.25000000e-01],\n",
       "       [3.33000000e+02, 5.00000000e+00, 2.00000000e+00, 1.20000000e+00],\n",
       "       [4.00000000e+02, 6.60000000e+00, 1.10000000e+00, 1.10000000e+00],\n",
       "       [2.43000000e+02, 3.00000000e+00, 3.80000000e+00, 1.20000000e+00],\n",
       "       [4.62000000e+02, 1.90000000e+01, 1.20000000e+01, 0.00000000e+00],\n",
       "       [7.00000000e+01, 1.90000000e+00, 8.40000000e+00, 1.10000000e-01],\n",
       "       [0.00000000e+00, 0.00000000e+00, 0.00000000e+00, 0.00000000e+00],\n",
       "       [7.53000000e+01, 1.38000000e+00, 1.35000000e+01, 0.00000000e+00],\n",
       "       [0.00000000e+00, 0.00000000e+00, 0.00000000e+00, 1.25000000e-03],\n",
       "       [3.52000000e+02, 1.14000000e+00, 2.86000000e+00, 7.05000000e-01],\n",
       "       [3.88000000e+02, 2.80000000e+00, 2.60000000e+00, 6.80000000e-01],\n",
       "       [5.20000000e+02, 2.90000000e+01, 1.65000000e+00, 5.90000000e-02],\n",
       "       [4.53000000e+02, 1.70000000e+01, 1.10000000e+01, 1.00000000e-02],\n",
       "       [3.62000000e+02, 2.00000000e+00, 4.20000000e+00, 2.80000000e-01],\n",
       "       [4.50000000e+01, 1.30000000e+00, 0.00000000e+00, 0.00000000e+00],\n",
       "       [3.72000000e+02, 7.00000000e+00, 7.50000000e-01, 2.50000000e-02],\n",
       "       [4.60000000e+01, 1.50000000e+00, 0.00000000e+00, 0.00000000e+00],\n",
       "       [4.50000000e+01, 1.50000000e+00, 0.00000000e+00, 0.00000000e+00],\n",
       "       [3.62000000e+02, 7.10000000e+00, 1.70000000e+00, 2.00000000e-02],\n",
       "       [1.44359465e+02, 7.80000000e+00, 1.00000000e-01, 6.00000000e-02],\n",
       "       [0.00000000e+00, 0.00000000e+00, 0.00000000e+00, 0.00000000e+00],\n",
       "       [5.90000000e+01, 3.00000000e+00, 0.00000000e+00, 0.00000000e+00],\n",
       "       [8.50000000e+01, 3.00000000e-01, 2.90000000e+00, 1.27750000e+00],\n",
       "       [6.35000000e+02, 7.00000000e+01, 0.00000000e+00, 0.00000000e+00],\n",
       "       [4.50000000e+02, 1.90000000e+01, 1.60000000e+01, 1.90000000e-01],\n",
       "       [2.10000000e+02, 1.80000000e+00, 3.90000000e+00, 1.00000000e+00],\n",
       "       [2.78000000e+02, 6.60000000e+00, 3.80000000e+00, 3.82800000e-01],\n",
       "       [0.00000000e+00, 0.00000000e+00, 0.00000000e+00, 7.50000000e-04],\n",
       "       [1.41000000e+02, 5.00000000e-01, 9.10000000e+00, 2.30000000e-01],\n",
       "       [7.60000000e+01, 1.50000000e+00, 4.00000000e+00, 1.17500000e-01],\n",
       "       [0.00000000e+00, 0.00000000e+00, 0.00000000e+00, 0.00000000e+00],\n",
       "       [8.10000000e+01, 3.37000000e-01, 4.29000000e+00, 6.16000000e-01],\n",
       "       [1.15000000e+01, 0.00000000e+00, 4.00000000e-01, 5.00000000e-03],\n",
       "       [6.60000000e+01, 2.10000000e+00, 7.50000000e+00, 2.00000000e-01],\n",
       "       [6.22000000e+02, 5.00000000e+01, 5.80000000e+00, 3.00000000e-02],\n",
       "       [3.62000000e+02, 2.00000000e+00, 4.20000000e+00, 2.60000000e-01],\n",
       "       [9.30000000e+01, 5.00000000e+00, 3.00000000e+00, 9.75000000e-02],\n",
       "       [3.53000000e+02, 2.11000000e+00, 4.47000000e+00, 2.57000000e-01],\n",
       "       [2.62000000e+02, 4.40000000e+00, 2.40000000e+00, 7.65000000e-01],\n",
       "       [1.00000000e+00, 0.00000000e+00, 0.00000000e+00, 0.00000000e+00],\n",
       "       [3.52000000e+02, 5.80000000e+00, 1.40000000e+01, 3.00000000e-02],\n",
       "       [6.10000000e+02, 4.80000000e+01, 6.20000000e+00, 5.00000000e-02],\n",
       "       [2.58000000e+02, 4.50000000e+00, 5.00000000e+00, 1.00000000e+00],\n",
       "       [2.65000000e+02, 4.90000000e+00, 2.50000000e-01, 8.25000000e-01],\n",
       "       [3.16000000e+01, 1.08000000e-01, 2.43000000e+00, 2.70000000e-01],\n",
       "       [3.62000000e+02, 7.20000000e+00, 1.70000000e+01, 3.00000000e-02],\n",
       "       [3.38000000e+02, 1.50000000e+00, 2.00000000e+00, 1.00000000e+00],\n",
       "       [1.41000000e+02, 5.00000000e-01, 9.10000000e+00, 2.30000000e-01],\n",
       "       [2.45000000e+02, 7.50000000e-01, 3.38000000e+00, 7.62000000e-01],\n",
       "       [3.74000000e+02, 8.00000000e+00, 1.10000000e+00, 0.00000000e+00],\n",
       "       [5.50000000e+01, 3.00000000e+00, 4.00000000e+00, 1.00000000e-01],\n",
       "       [3.78000000e+02, 1.60000000e+00, 6.00000000e-01, 5.00000000e-01],\n",
       "       [9.10000000e+01, 9.00000000e-02, 0.00000000e+00, 0.00000000e+00],\n",
       "       [2.50000000e+02, 4.30000000e+00, 5.50000000e+00, 1.10000000e+00],\n",
       "       [3.59000000e+02, 2.00000000e+00, 3.50000000e+00, 1.00000000e-02],\n",
       "       [2.50000000e+01, 1.70000000e+00, 5.00000000e-01, 5.00000000e-02],\n",
       "       [6.62000000e+01, 3.00000000e+00, 6.70000000e+00, 3.41250000e-01],\n",
       "       [5.92000000e+01, 2.92000000e+00, 2.80000000e+00, 9.80000000e-02],\n",
       "       [5.40000000e+01, 2.80000000e+00, 2.20000000e+00, 2.20000000e-01],\n",
       "       [3.58000000e+02, 6.00000000e+00, 1.30000000e+01, 4.00000000e-02],\n",
       "       [2.34000000e+02, 1.30000000e+00, 1.50000000e+00, 7.97500000e-01],\n",
       "       [4.14000000e+02, 1.80000000e+01, 0.00000000e+00, 2.10000000e-01],\n",
       "       [2.72000000e+02, 2.16000000e+01, 6.00000000e-01, 9.82500000e-01],\n",
       "       [5.40000000e+01, 0.00000000e+00, 3.00000000e+00, 9.75000000e-02],\n",
       "       [7.20000000e+01, 3.80000000e+00, 4.90000000e+00, 1.20000000e-01],\n",
       "       [2.70000000e+02, 7.50000000e+00, 4.20000000e+00, 8.40000000e-01],\n",
       "       [8.22000000e+02, 9.00000000e+01, 0.00000000e+00, 0.00000000e+00],\n",
       "       [2.38000000e+02, 2.80000000e+00, 2.70000000e+00, 7.67500000e-01],\n",
       "       [4.83000000e+01, 2.00000000e-01, 0.00000000e+00, 0.00000000e+00],\n",
       "       [1.98000000e+02, 1.00000000e+01, 0.00000000e+00, 1.20000000e+00],\n",
       "       [3.75000000e+02, 8.00000000e+00, 1.10000000e+00, 1.00000000e-02],\n",
       "       [4.00000000e+01, 2.20000000e+00, 3.30000000e+00, 6.20000000e-01],\n",
       "       [9.00000000e+02, 1.00000000e+02, 0.00000000e+00, 0.00000000e+00],\n",
       "       [1.23000000e+02, 4.00000000e-01, 9.00000000e+00, 5.00000000e-01],\n",
       "       [4.08000000e+02, 1.00000000e+01, 4.20000000e+00, 1.00000000e+00],\n",
       "       [6.03000000e+02, 4.70000000e+01, 5.30000000e+00, 2.00000000e-02],\n",
       "       [1.15000000e+02, 2.20000000e+00, 4.00000000e-01, 1.00000000e-01],\n",
       "       [6.10000000e+01, 6.00000000e-01, 1.10000000e+01, 1.00000000e-02],\n",
       "       [1.75000000e+02, 1.10000000e+00, 9.70000000e-01, 5.00000000e-01],\n",
       "       [1.41000000e+02, 5.00000000e-01, 9.10000000e+00, 2.30000000e-01],\n",
       "       [3.76000000e+02, 6.80000000e+00, 1.42000000e+01, 3.00000000e-02],\n",
       "       [2.26000000e+02, 1.90000000e+00, 2.80000000e+00, 9.80000000e-01],\n",
       "       [2.27000000e+02, 2.52000000e+00, 2.52000000e+00, 9.45000000e-01],\n",
       "       [3.67000000e+02, 2.20000000e+00, 7.00000000e-01, 5.00000000e-02],\n",
       "       [1.38000000e+02, 1.70000000e+00, 1.00000000e+00, 1.00000000e-02],\n",
       "       [0.00000000e+00, 0.00000000e+00, 0.00000000e+00, 0.00000000e+00],\n",
       "       [2.51000000e+02, 3.90000000e+00, 3.00000000e+00, 7.57500000e-01],\n",
       "       [0.00000000e+00, 0.00000000e+00, 0.00000000e+00, 1.30000000e-02],\n",
       "       [4.02000000e+02, 1.44000000e+01, 9.60000000e+00, 3.00000000e-02],\n",
       "       [3.58000000e+02, 2.00000000e+00, 4.40000000e+00, 2.80000000e-01],\n",
       "       [5.10000000e+01, 2.15000000e+00, 5.10000000e+00, 6.00000000e-01],\n",
       "       [3.90000000e+02, 9.60000000e+00, 8.70000000e+00, 1.00000000e-01],\n",
       "       [3.50000000e+02, 2.60000000e+00, 1.60000000e+00, 1.40000000e+00],\n",
       "       [4.20000000e+01, 2.30000000e+00, 0.00000000e+00, 2.40000000e-01],\n",
       "       [2.95000000e+02, 6.03000000e+00, 2.24000000e+00, 2.63000000e-04],\n",
       "       [3.62000000e+02, 1.30000000e+00, 1.00000000e+01, 2.80000000e-01],\n",
       "       [1.17000000e+02, 4.00000000e-01, 9.00000000e+00, 8.00000000e-01],\n",
       "       [9.00000000e+02, 1.00000000e+02, 0.00000000e+00, 0.00000000e+00],\n",
       "       [3.69000000e+02, 5.80000000e+00, 1.60000000e+01, 2.80000000e-01],\n",
       "       [3.85000000e+02, 5.00000000e+00, 1.70000000e+01, 1.94000000e-01],\n",
       "       [4.25000000e+02, 9.60000000e+00, 1.70000000e+00, 8.90000000e-01],\n",
       "       [5.00000000e+01, 1.60000000e+00, 4.80000000e+00, 1.07500000e-01],\n",
       "       [2.93000000e+02, 8.90000000e+00, 2.60000000e+00, 4.40000000e-01],\n",
       "       [3.52000000e+02, 9.52000000e-01, 2.86000000e+00, 7.62000000e-01]])"
      ]
     },
     "execution_count": 11,
     "metadata": {},
     "output_type": "execute_result"
    }
   ],
   "source": [
    "#dividimos el dataset en dos partes, una para las variables dependientes y otra para las independientes\n",
    "y=df['nutriscore_grade'].values\n",
    "x=df.iloc[:,[2,3,4,5]].values"
   ]
  },
  {
   "cell_type": "code",
   "execution_count": 14,
   "id": "73d704da",
   "metadata": {},
   "outputs": [],
   "source": [
    "# Separamos en conjunto de entrenamiento y conjunto de test\n",
    "from sklearn.model_selection import train_test_split \n",
    "X_tr, X_te, Y_tr, Y_te = train_test_split(x,y, test_size=0.3,random_state=23,stratify=y)"
   ]
  },
  {
   "cell_type": "code",
   "execution_count": 35,
   "id": "b306ec26",
   "metadata": {},
   "outputs": [],
   "source": [
    "#estandarizamos los datos\n",
    "from sklearn.preprocessing import StandardScaler\n",
    "\n",
    "sc = StandardScaler()\n",
    "sc.fit(X_tr)\n",
    "X_train_std = sc.transform(X_tr)\n",
    "X_test_std = sc.transform(X_te)"
   ]
  },
  {
   "cell_type": "code",
   "execution_count": 36,
   "id": "29b925bd",
   "metadata": {},
   "outputs": [
    {
     "data": {
      "text/plain": [
       "RandomForestClassifier(n_estimators=25, n_jobs=-1, random_state=23)"
      ]
     },
     "execution_count": 36,
     "metadata": {},
     "output_type": "execute_result"
    }
   ],
   "source": [
    "# Usamos el clasificador RandomForestClassifier de sklearn con distintos arboles\n",
    "\n",
    "from sklearn.ensemble import RandomForestClassifier\n",
    "#estimadores=[3,10,25]\n",
    "forest_3 = RandomForestClassifier(criterion='gini', n_estimators=3,\n",
    "                                random_state=23, n_jobs=-1)\n",
    "forest_3.fit(X_tr, Y_tr)\n",
    "\n",
    "forest_10 = RandomForestClassifier(criterion='gini', n_estimators=10,\n",
    "                                random_state=23, n_jobs=-1)\n",
    "forest_10.fit(X_tr, Y_tr)\n",
    "\n",
    "forest_25 = RandomForestClassifier(criterion='gini', n_estimators=25,\n",
    "                                random_state=23, n_jobs=-1)\n",
    "forest_25.fit(X_tr, Y_tr)"
   ]
  },
  {
   "cell_type": "code",
   "execution_count": 37,
   "id": "e08ce7fc",
   "metadata": {},
   "outputs": [],
   "source": [
    "# Predecimos con diferente \n",
    "y_pred_3=forest_3.predict(X_te)\n",
    "y_pred_10=forest_10.predict(X_te)\n",
    "y_pred_25=forest_25.predict(X_te)"
   ]
  },
  {
   "cell_type": "code",
   "execution_count": 38,
   "id": "ccf8ebe2",
   "metadata": {},
   "outputs": [
    {
     "name": "stdout",
     "output_type": "stream",
     "text": [
      "Predicciones: y_pred_3 , Presición:0.6\n",
      "Predicciones: y_pred_10 , Presición:0.6444444444444445\n",
      "Predicciones: y_pred_25 , Presición:0.6666666666666666\n"
     ]
    }
   ],
   "source": [
    "#Mostrar los resultados de los diferentes arboles\n",
    "from sklearn.metrics import accuracy_score \n",
    "pred=[y_pred_3,y_pred_10,y_pred_25]\n",
    "name=['y_pred_3','y_pred_10','y_pred_25']\n",
    "for i in range(len(pred)):\n",
    "    accuracy = accuracy_score(Y_te,pred[i])\n",
    "    print(f'Predicciones: {name[i]} , Presición:{accuracy}')\n"
   ]
  },
  {
   "cell_type": "code",
   "execution_count": 39,
   "id": "efa2907f",
   "metadata": {},
   "outputs": [
    {
     "name": "stdout",
     "output_type": "stream",
     "text": [
      "El modelo de mejor rendimiento tiene 25 arboles y su rendimiento es 0.6666666666666666\n"
     ]
    }
   ],
   "source": [
    "\n",
    "print(f'El modelo de mejor rendimiento tiene 25 arboles y su rendimiento es {accuracy_score(Y_te,y_pred_25)}')"
   ]
  },
  {
   "cell_type": "markdown",
   "id": "16e8cf18",
   "metadata": {},
   "source": [
    "Matriz de confusion"
   ]
  },
  {
   "cell_type": "code",
   "execution_count": 40,
   "id": "eb9acbcb",
   "metadata": {},
   "outputs": [
    {
     "data": {
      "image/png": "[encoded data removed]",
      "text/plain": [
       "<Figure size 432x288 with 2 Axes>"
      ]
     },
     "metadata": {
      "needs_background": "light"
     },
     "output_type": "display_data"
    }
   ],
   "source": [
    "from sklearn.metrics import confusion_matrix\n",
    "import seaborn as sns\n",
    "import matplotlib.pyplot as plt\n",
    "\n",
    "Y_pred = forest_25.predict(X_te)\n",
    "\n",
    "# Matriz de confusion\n",
    "cm = confusion_matrix(Y_te, Y_pred)\n",
    "\n",
    "sns.heatmap(cm, annot=True, fmt='d')\n",
    "plt.xlabel('Predicciones')\n",
    "plt.ylabel('Valores verdaderos')\n",
    "plt.title('Matriz de confusion')\n",
    "plt.show()\n"
   ]
  },
  {
   "cell_type": "code",
   "execution_count": 42,
   "id": "93626691",
   "metadata": {},
   "outputs": [
    {
     "name": "stdout",
     "output_type": "stream",
     "text": [
      "Prediccion NutriScore: 0\n"
     ]
    }
   ],
   "source": [
    "#Intentar una predicción con nuevos datos.\n",
    "nuevos_datos = [0.5, 6, 3.2, 10]\n",
    "y_pred_nuevo = forest_10.predict([nuevos_datos])\n",
    "print(\"Prediccion NutriScore:\", y_pred_nuevo[0])"
   ]
  }
 ],
 "metadata": {
  "kernelspec": {
   "display_name": "ICC743",
   "language": "python",
   "name": "python3"
  },
  "language_info": {
   "codemirror_mode": {
    "name": "ipython",
    "version": 3
   },
   "file_extension": ".py",
   "mimetype": "text/x-python",
   "name": "python",
   "nbconvert_exporter": "python",
   "pygments_lexer": "ipython3",
   "version": "3.6.13"
  }
 },
 "nbformat": 4,
 "nbformat_minor": 5
}
